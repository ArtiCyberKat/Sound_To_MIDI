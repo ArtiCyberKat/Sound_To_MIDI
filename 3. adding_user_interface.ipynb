{
 "cells": [
  {
   "attachments": {},
   "cell_type": "markdown",
   "metadata": {},
   "source": [
    "The first thing I wanted to do was to present the MIDI solutions graphically. I found a library called pretty_midi does this.\n",
    "\n",
    "Going forward, because I had a good final method, I have only taken this method forward for future purposes."
   ]
  },
  {
   "cell_type": "code",
   "execution_count": null,
   "metadata": {},
   "outputs": [],
   "source": [
    "''' Play a WAVE file '''\n",
    "import pyaudio\n",
    "import wave\n",
    " \n",
    "filename = 'path-to_file.wav'\n",
    " \n",
    "# Set chunk size of 1024 samples per data frame\n",
    "chunk = 1024 \n",
    " \n",
    "# Open the soaudio/sound file\n",
    "af = wave.open(filename, 'rb')\n",
    " \n",
    "# Create an interface to PortAudio\n",
    "pa = pyaudio.PyAudio()\n",
    " \n",
    "# Open a .Stream object to write the WAV file\n",
    "# 'output = True' indicates that the\n",
    "# sound will be played rather than\n",
    "# recorded and opposite can be used for recording\n",
    "stream = pa.open(format = pa.get_format_from_width(af.getsampwidth()),\n",
    "                channels = af.getnchannels(),\n",
    "                rate = af.getframerate(),\n",
    "                output = True)\n",
    " \n",
    "# Read data in chunks\n",
    "rd_data = af.readframes(chunk)\n",
    " \n",
    "# Play the sound by writing the audio\n",
    "# data to the Stream using while loop\n",
    "while rd_data != '':\n",
    "    stream.write(rd_data)\n",
    "    rd_data = af.readframes(chunk)\n",
    " \n",
    "# Close and terminate the stream\n",
    "stream.stop_stream()\n",
    "stream.close()\n",
    "pa.terminate()"
   ]
  },
  {
   "attachments": {},
   "cell_type": "markdown",
   "metadata": {},
   "source": [
    "Then I provide the ability to record audio."
   ]
  },
  {
   "cell_type": "code",
   "execution_count": null,
   "metadata": {},
   "outputs": [],
   "source": [
    "# This is with help from: https://www.geeksforgeeks.org/how-to-play-and-record-audio-in-python/"
   ]
  },
  {
   "attachments": {},
   "cell_type": "markdown",
   "metadata": {},
   "source": [
    "Th"
   ]
  },
  {
   "attachments": {},
   "cell_type": "markdown",
   "metadata": {},
   "source": [
    "I also wanted to create a metronome that would take input of what BPM.\n",
    "The metronome would then, ideally, play at the same time as recording is happening so the clicking of the metronome will not be heard."
   ]
  },
  {
   "attachments": {},
   "cell_type": "markdown",
   "metadata": {},
   "source": [
    "I had to import sounddevice for this too!"
   ]
  },
  {
   "cell_type": "code",
   "execution_count": null,
   "metadata": {},
   "outputs": [],
   "source": [
    "###METRONOME\n",
    "\n",
    "import sounddevice as sd\n",
    "\n",
    "fs = 44100\n",
    "\n",
    "def callback(indata, outdata, frames, time, status):\n",
    "    if status:\n",
    "        print(status)\n",
    "    outdata[:] = indata\n",
    "\n",
    "print(sd.query_devices())\n",
    "\n",
    "try:\n",
    "    with sd.Stream(device=(0,1), samplerate=fs, dtype='float32', latency=None, channels=2, callback=callback):\n",
    "        input()\n",
    "except KeyboardInterrupt:\n",
    "    pass"
   ]
  }
 ],
 "metadata": {
  "kernelspec": {
   "display_name": "Python 3",
   "language": "python",
   "name": "python3"
  },
  "language_info": {
   "name": "python",
   "version": "3.8.3"
  },
  "orig_nbformat": 4,
  "vscode": {
   "interpreter": {
    "hash": "570feb405e2e27c949193ac68f46852414290d515b0ba6e5d90d076ed2284471"
   }
  }
 },
 "nbformat": 4,
 "nbformat_minor": 2
}
