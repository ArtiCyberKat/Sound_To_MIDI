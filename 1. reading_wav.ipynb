{
 "cells": [
  {
   "attachments": {},
   "cell_type": "markdown",
   "metadata": {},
   "source": [
    "Getting to grips with .WAV files -- playing the .WAV file straight into Python."
   ]
  },
  {
   "cell_type": "code",
   "execution_count": null,
   "metadata": {},
   "outputs": [],
   "source": [
    "#PLAYING SOUND OF AUDIO FILE\n",
    "\n",
    "#First YouTube tutorial: https://www.youtube.com/watch?v=VBHQIYAt2XU (pathlib and os were not necessary for now)\n",
    "#Pycharm notation from website for mixer: https://www.pygame.org/docs/ref/mixer.html\n",
    "#Looking at pycharm notation clearer explanation: https://www.youtube.com/watch?v=VBHQIYAt2XU\n",
    "\n",
    "import pygame #start and stop of track playing\n",
    "\n",
    "audio_to_identify = \"C:\\$$$AUDIO FILES\\$$FULL_c3_major_scale.wav\"\n",
    "\n",
    "#this website is used to look at pygame modules: https://www.pygame.org/docs/ref/mixer.html\n",
    "pygame.init() #initialise all imported pygame modules\n",
    "\n",
    "#THEN:\n",
    "#access mixer to play sound through special streaming channel.\n",
    "#streams the music from the files without loading music at once into memory.    \n",
    "pygame.mixer.music.load(audio_to_identify)\n",
    "\n",
    "pygame.mixer.music.play()"
   ]
  },
  {
   "attachments": {},
   "cell_type": "markdown",
   "metadata": {},
   "source": [
    "Alternative way to play the track directly into Python."
   ]
  },
  {
   "cell_type": "code",
   "execution_count": null,
   "metadata": {},
   "outputs": [],
   "source": [
    "##ALTERNATIVELY TO PLAY AUDIO TRACK IN PYTHON:\n",
    "\n",
    "from pygame import mixer #hence you avoid taking the time to load other parts of library\n",
    "\n",
    "audio_to_identify = \"C:\\$$$AUDIO FILES\\$$FULL_c3_major_scale.wav\"\n",
    "\n",
    "#this website is used to look at pygame modules: https://www.pygame.org/docs/ref/mixer.html\n",
    "mixer.init() #initialise all imported pygame modules\n",
    "\n",
    "#THEN:\n",
    "#access mixer to play sound through special streaming channel.\n",
    "#streams the music from the files without loading music at once into memory.    \n",
    "mixer.music.load(audio_to_identify)\n",
    "\n",
    "mixer.music.play()"
   ]
  }
 ],
 "metadata": {
  "kernelspec": {
   "display_name": "Python 3",
   "language": "python",
   "name": "python3"
  },
  "language_info": {
   "codemirror_mode": {
    "name": "ipython",
    "version": 3
   },
   "file_extension": ".py",
   "mimetype": "text/x-python",
   "name": "python",
   "nbconvert_exporter": "python",
   "pygments_lexer": "ipython3",
   "version": "3.8.3"
  },
  "orig_nbformat": 4,
  "vscode": {
   "interpreter": {
    "hash": "570feb405e2e27c949193ac68f46852414290d515b0ba6e5d90d076ed2284471"
   }
  }
 },
 "nbformat": 4,
 "nbformat_minor": 2
}
